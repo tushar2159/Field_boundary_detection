{
 "cells": [
  {
   "cell_type": "code",
   "execution_count": 6,
   "id": "2dac9c32-2392-4f0c-a71c-08dc4c37df51",
   "metadata": {},
   "outputs": [
    {
     "name": "stdout",
     "output_type": "stream",
     "text": [
      "Binary mask generated and saved successfully.\n"
     ]
    }
   ],
   "source": [
    "#convert multistring shapefile of digitized boundaries to binary mask\n",
    "import os\n",
    "import numpy as np\n",
    "from osgeo import gdal, ogr\n",
    "\n",
    "# Function to create a binary mask from a shapefile\n",
    "def create_binary_mask(shapefile_path, raster_path, output_mask_path):\n",
    "    # Open shapefile\n",
    "    shape_ds = ogr.Open(shapefile_path)\n",
    "    shape_layer = shape_ds.GetLayer()\n",
    "\n",
    "    # Get extent of shapefile\n",
    "    x_min, x_max, y_min, y_max = shape_layer.GetExtent()\n",
    "\n",
    "    # Open raster dataset to get size\n",
    "    raster_ds = gdal.Open(raster_path)\n",
    "    raster_width = raster_ds.RasterXSize\n",
    "    raster_height = raster_ds.RasterYSize\n",
    "\n",
    "    # Create a new raster to store the mask\n",
    "    mask_ds = gdal.GetDriverByName('GTiff').Create(output_mask_path, raster_width, raster_height, 1, gdal.GDT_Byte)\n",
    "    mask_ds.SetProjection(raster_ds.GetProjection())\n",
    "    mask_ds.SetGeoTransform(raster_ds.GetGeoTransform())\n",
    "\n",
    "    # Rasterize shapefile onto mask\n",
    "    gdal.RasterizeLayer(mask_ds, [1], shape_layer, burn_values=[1])\n",
    "\n",
    "    # Close datasets\n",
    "    del mask_ds, raster_ds, shape_ds\n",
    "\n",
    "# Paths\n",
    "shapefile_path = '/home/jovyan/Tushar/Tile_2.shp'\n",
    "raster_path = \"/home/jovyan/Tushar/FBD_Task/High_Resolution_image_for_training/jag_t2.tif\"\n",
    "output_mask_path = \"/home/jovyan/Tushar/mask.tif\"\n",
    "\n",
    "# Create binary mask\n",
    "create_binary_mask(shapefile_path, raster_path, output_mask_path)\n",
    "\n",
    "print(\"Binary mask generated and saved successfully.\")\n"
   ]
  },
  {
   "cell_type": "code",
   "execution_count": null,
   "id": "31ffff4e-1357-459e-9d10-c8218b5fc2fa",
   "metadata": {},
   "outputs": [],
   "source": [
    "#generating patches of image and mask for training\n",
    "import cv2\n",
    "import os\n",
    "\n",
    "def generate_patches(image_path, mask_path, patch_size, output_dir_images, output_dir_masks):\n",
    "    # Create output directories if they don't exist\n",
    "    os.makedirs(output_dir_images, exist_ok=True)\n",
    "    os.makedirs(output_dir_masks, exist_ok=True)\n",
    "    \n",
    "    # Load images\n",
    "    image = cv2.imread(image_path)\n",
    "    mask = cv2.imread(mask_path, cv2.IMREAD_GRAYSCALE)\n",
    "    \n",
    "    # Get image dimensions\n",
    "    height, width, _ = image.shape\n",
    "    \n",
    "    # Calculate number of patches\n",
    "    num_patches_height = height // patch_size\n",
    "    num_patches_width = width // patch_size\n",
    "    \n",
    "    # Generate patches\n",
    "    for i in range(num_patches_height):\n",
    "        for j in range(num_patches_width):\n",
    "            y_start = i * patch_size\n",
    "            y_end = (i + 1) * patch_size\n",
    "            x_start = j * patch_size\n",
    "            x_end = (j + 1) * patch_size\n",
    "            \n",
    "            # Extract patches from image and mask\n",
    "            image_patch = image[y_start:y_end, x_start:x_end]\n",
    "            mask_patch = mask[y_start:y_end, x_start:x_end]\n",
    "            \n",
    "            # Save patches\n",
    "            cv2.imwrite(os.path.join(output_dir_images, f\"image_patch_{i}_{j}.tif\"), image_patch)\n",
    "            cv2.imwrite(os.path.join(output_dir_masks, f\"mask_patch_{i}_{j}.tif\"), mask_patch)\n",
    "\n",
    "# Paths and parameters\n",
    "image_path = \"/home/jovyan/Tushar/FBD_Task/High_Resolution_image_for_training/jag_t2.tif\"\n",
    "mask_path = \"/home/jovyan/Tushar/mask.tif\"\n",
    "patch_size = 256  # Adjust patch size as needed\n",
    "output_dir_images = \"/home/jovyan/Tushar/FBD_Task/image_patches\"\n",
    "output_dir_masks = \"/home/jovyan/Tushar/FBD_Task/mask_patches\"\n",
    "\n",
    "# Generate patches\n",
    "generate_patches(image_path, mask_path, patch_size, output_dir_images, output_dir_masks)\n"
   ]
  }
 ],
 "metadata": {
  "kernelspec": {
   "display_name": "Python",
   "language": "python",
   "name": "python3"
  },
  "language_info": {
   "codemirror_mode": {
    "name": "ipython",
    "version": 3
   },
   "file_extension": ".py",
   "mimetype": "text/x-python",
   "name": "python",
   "nbconvert_exporter": "python",
   "pygments_lexer": "ipython3",
   "version": "3.8.10"
  }
 },
 "nbformat": 4,
 "nbformat_minor": 5
}
